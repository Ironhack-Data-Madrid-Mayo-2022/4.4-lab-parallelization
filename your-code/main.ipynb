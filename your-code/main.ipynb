{
 "cells": [
  {
   "cell_type": "markdown",
   "metadata": {
    "toc": true
   },
   "source": [
    "<h1>Table of Contents<span class=\"tocSkip\"></span></h1>\n",
    "<div class=\"toc\"><ul class=\"toc-item\"><li><span><a href=\"#Parallelization-Lab\" data-toc-modified-id=\"Parallelization-Lab-1\"><span class=\"toc-item-num\">1&nbsp;&nbsp;</span>Parallelization Lab</a></span><ul class=\"toc-item\"><li><span><a href=\"#Step-1:-Use-the-requests-library-to-retrieve-the-content-from-the-URL-below.\" data-toc-modified-id=\"Step-1:-Use-the-requests-library-to-retrieve-the-content-from-the-URL-below.-1.1\"><span class=\"toc-item-num\">1.1&nbsp;&nbsp;</span>Step 1: Use the requests library to retrieve the content from the URL below.</a></span></li><li><span><a href=\"#Step-2:-Use-BeautifulSoup-to-extract-a-list-of-all-the-unique-links-on-the-page.\" data-toc-modified-id=\"Step-2:-Use-BeautifulSoup-to-extract-a-list-of-all-the-unique-links-on-the-page.-1.2\"><span class=\"toc-item-num\">1.2&nbsp;&nbsp;</span>Step 2: Use BeautifulSoup to extract a list of all the unique links on the page.</a></span></li><li><span><a href=\"#Step-3:-Use-list-comprehensions-with-conditions-to-clean-the-link-list.\" data-toc-modified-id=\"Step-3:-Use-list-comprehensions-with-conditions-to-clean-the-link-list.-1.3\"><span class=\"toc-item-num\">1.3&nbsp;&nbsp;</span>Step 3: Use list comprehensions with conditions to clean the link list.</a></span></li><li><span><a href=\"#Step-4:-Use-the-os-library-to-create-a-folder-called-wikipedia-and-make-that-the-current-working-directory.\" data-toc-modified-id=\"Step-4:-Use-the-os-library-to-create-a-folder-called-wikipedia-and-make-that-the-current-working-directory.-1.4\"><span class=\"toc-item-num\">1.4&nbsp;&nbsp;</span>Step 4: Use the os library to create a folder called <em>wikipedia</em> and make that the current working directory.</a></span></li><li><span><a href=\"#Step-5:-Write-a-function-called-index_page-that-accepts-a-link-and-does-the-following.\" data-toc-modified-id=\"Step-5:-Write-a-function-called-index_page-that-accepts-a-link-and-does-the-following.-1.5\"><span class=\"toc-item-num\">1.5&nbsp;&nbsp;</span>Step 5: Write a function called index_page that accepts a link and does the following.</a></span></li><li><span><a href=\"#Step-6:-Sequentially-loop-through-the-list-of-links,-running-the-index_page-function-each-time.\" data-toc-modified-id=\"Step-6:-Sequentially-loop-through-the-list-of-links,-running-the-index_page-function-each-time.-1.6\"><span class=\"toc-item-num\">1.6&nbsp;&nbsp;</span>Step 6: Sequentially loop through the list of links, running the index_page function each time.</a></span></li><li><span><a href=\"#Step-7:-Perform-the-page-indexing-in-parallel-and-note-the-difference-in-performance.\" data-toc-modified-id=\"Step-7:-Perform-the-page-indexing-in-parallel-and-note-the-difference-in-performance.-1.7\"><span class=\"toc-item-num\">1.7&nbsp;&nbsp;</span>Step 7: Perform the page indexing in parallel and note the difference in performance.</a></span></li></ul></li></ul></div>"
   ]
  },
  {
   "cell_type": "markdown",
   "metadata": {},
   "source": [
    "# Parallelization Lab\n",
    "\n",
    "In this lab, you will be leveraging several concepts you have learned to obtain a list of links from a web page and crawl and index the pages referenced by those links - both sequentially and in parallel. Follow the steps below to complete the lab."
   ]
  },
  {
   "cell_type": "markdown",
   "metadata": {},
   "source": [
    "## Step 1: Use the requests library to retrieve the content from the URL below.\n",
    "\n",
    "https://en.wikipedia.org/wiki/Data_science"
   ]
  },
  {
   "cell_type": "code",
   "execution_count": 1,
   "metadata": {},
   "outputs": [],
   "source": [
    "import requests as req\n",
    "\n",
    "url = 'https://en.wikipedia.org/wiki/Data_science'"
   ]
  },
  {
   "cell_type": "code",
   "execution_count": 2,
   "metadata": {},
   "outputs": [
    {
     "data": {
      "text/plain": [
       "b'<!DOCTYPE html>\\n<html class=\"client-nojs\" lang=\"en\" dir=\"ltr\">\\n<head>\\n<meta charset=\"UTF-8\"/>\\n<title>Data science - Wikipedia</title>\\n<script>document.documentElement.className=\"client-js\";RLCONF={\"wgBreakFrames\":false,\"wgSeparatorTransformTable\":[\"\",\"\"],\"wgDigitTransformTable\":[\"\",\"\"],\"wgDefaultDateFormat\":\"dmy\",\"wgMonthNames\":[\"\",\"January\",\"February\",\"March\",\"April\",\"May\",\"June\",\"July\",\"August\",\"September\",\"October\",\"November\",\"December\"],\"wgRequestId\":\"8dec9f46-6a0a-4b75-bcde-ad8cf733bc2e\",\"wgCSPNonce\":false,\"wgCanonicalNamespace\":\"\",\"wgCanonicalSpecialPageName\":false,\"wgNamespaceNumber\":0,\"wgPageName\":\"Data_science\",\"wgTitle\":\"Data science\",\"wgCurRevisionId\":1093351141,\"wgRevisionId\":1093351141,\"wgArticleId\":35458904,\"wgIsArticle\":true,\"wgIsRedirect\":false,\"wgAction\":\"view\",\"wgUserName\":null,\"wgUserGroups\":[\"*\"],\"wgCategories\":[\"Articles with short description\",\"Short description matches Wikidata\",\"Use dmy dates from August 2021\",\"Information science\",\"Computer occupations\",\"Comput'"
      ]
     },
     "execution_count": 2,
     "metadata": {},
     "output_type": "execute_result"
    }
   ],
   "source": [
    "html=req.get(url).content\n",
    "html[:1000]"
   ]
  },
  {
   "cell_type": "markdown",
   "metadata": {},
   "source": [
    "## Step 2: Use BeautifulSoup to extract a list of all the unique links on the page."
   ]
  },
  {
   "cell_type": "code",
   "execution_count": 3,
   "metadata": {},
   "outputs": [],
   "source": [
    "from bs4 import BeautifulSoup as bs\n",
    "#import re"
   ]
  },
  {
   "cell_type": "code",
   "execution_count": 4,
   "metadata": {
    "scrolled": true
   },
   "outputs": [
    {
     "data": {
      "text/plain": [
       "[None,\n",
       " '#mw-head',\n",
       " '#searchInput',\n",
       " '/wiki/Information_science',\n",
       " '/wiki/File:PIA23792-1600x1200(1).jpg',\n",
       " '/wiki/File:PIA23792-1600x1200(1).jpg',\n",
       " '/wiki/Comet_NEOWISE',\n",
       " '/wiki/Astronomical_survey',\n",
       " '/wiki/Space_telescope',\n",
       " '/wiki/Wide-field_Infrared_Survey_Explorer']"
      ]
     },
     "execution_count": 4,
     "metadata": {},
     "output_type": "execute_result"
    }
   ],
   "source": [
    "soup=bs(html, 'html.parser')\n",
    "lst = []\n",
    "for e in range(len(soup.find_all('a'))):\n",
    "        lst.append(soup.find_all('a')[e].get('href'))\n",
    "lst[:10] # Aquí está la lista de links"
   ]
  },
  {
   "cell_type": "markdown",
   "metadata": {},
   "source": [
    "## Step 3: Use list comprehensions with conditions to clean the link list.\n",
    "\n",
    "There are two types of links, absolute and relative. Absolute links have the full URL and begin with http while relative links begin with a forward slash (/) and point to an internal page within the wikipedia.org domain. Clean the respective types of URLs as follows.\n",
    "\n",
    "- Absolute Links: Create a list of these and remove any that contain a percentage sign (%).\n",
    "- Relativel Links: Create a list of these, add the domain to the link so that you have the full URL, and remove any that contain a percentage sign (%).\n",
    "- Combine the list of absolute and relative links and ensure there are no duplicates."
   ]
  },
  {
   "cell_type": "code",
   "execution_count": 5,
   "metadata": {},
   "outputs": [
    {
     "data": {
      "text/plain": [
       "4"
      ]
     },
     "execution_count": 5,
     "metadata": {},
     "output_type": "execute_result"
    }
   ],
   "source": [
    "domain = 'http://wikipedia.org'\n",
    "type_link = ['Absolute', 'Relativel', 'Combine']\n",
    "html2=req.get(domain).content\n",
    "soup2=bs(html2, 'html.parser')\n",
    "len(soup2)"
   ]
  },
  {
   "cell_type": "code",
   "execution_count": 6,
   "metadata": {},
   "outputs": [],
   "source": [
    "absolute = []\n",
    "relative = []\n",
    "for u, e in enumerate(soup2.find_all('a')):\n",
    "    if e.get('href')[:5] == 'https' and '%' not in e.get('href'):\n",
    "        absolute.append(soup2.find_all('a')[u].get('href'))\n",
    "    elif e.get('href')[:5] != 'https' and '%' not in e.get('href'):\n",
    "        relative.append(soup2.find_all('a')[u].get('href'))\n",
    "        "
   ]
  },
  {
   "cell_type": "code",
   "execution_count": 7,
   "metadata": {},
   "outputs": [
    {
     "data": {
      "text/plain": [
       "['https://meta.wikimedia.org/wiki/Special:MyLanguage/List_of_Wikipedias',\n",
       " 'https://donate.wikimedia.org/?utm_medium=portal&utm_campaign=portalFooter&utm_source=portalFooter',\n",
       " 'https://en.wikipedia.org/wiki/List_of_Wikipedia_mobile_applications',\n",
       " 'https://itunes.apple.com/app/apple-store/id324715238?pt=208305&ct=portal&mt=8',\n",
       " 'https://creativecommons.org/licenses/by-sa/3.0/',\n",
       " 'https://meta.wikimedia.org/wiki/Terms_of_use',\n",
       " 'https://meta.wikimedia.org/wiki/Privacy_policy',\n",
       " '//en.wikipedia.org/',\n",
       " '//ja.wikipedia.org/',\n",
       " '//es.wikipedia.org/']"
      ]
     },
     "execution_count": 7,
     "metadata": {},
     "output_type": "execute_result"
    }
   ],
   "source": [
    "definitiva = absolute + relative\n",
    "definitiva[:10] # Aquí está la lista de links definitiva"
   ]
  },
  {
   "cell_type": "code",
   "execution_count": 8,
   "metadata": {},
   "outputs": [
    {
     "data": {
      "text/plain": [
       "'https'"
      ]
     },
     "execution_count": 8,
     "metadata": {},
     "output_type": "execute_result"
    }
   ],
   "source": [
    "x = 'https'\n",
    "y ='https://creativecommons.org/licenses/by-sa/3.0/'\n",
    "x == y[:5]\n",
    "y[:5]"
   ]
  },
  {
   "cell_type": "code",
   "execution_count": 9,
   "metadata": {},
   "outputs": [
    {
     "data": {
      "text/plain": [
       "False"
      ]
     },
     "execution_count": 9,
     "metadata": {},
     "output_type": "execute_result"
    }
   ],
   "source": [
    "z = 'https://play.google.com/store/apps/details?id=org.wikipedia&referrer=utm_source%3Dportal%26utm_medium%3Dbutton%26anid%3Dadmob'\n",
    "'%' in y"
   ]
  },
  {
   "cell_type": "code",
   "execution_count": 10,
   "metadata": {},
   "outputs": [
    {
     "name": "stdout",
     "output_type": "stream",
     "text": [
      "//en.\n",
      "//ja.\n",
      "//es.\n",
      "//ru.\n",
      "//de.\n",
      "//fr.\n",
      "//it.\n",
      "//zh.\n",
      "//pt.\n",
      "//pl.\n",
      "//pl.\n",
      "//ar.\n",
      "//de.\n",
      "//en.\n",
      "//es.\n",
      "//fr.\n",
      "//it.\n",
      "//arz\n",
      "//nl.\n",
      "//ja.\n",
      "//pt.\n",
      "//ru.\n",
      "//ceb\n",
      "//sv.\n",
      "//uk.\n",
      "//vi.\n",
      "//war\n",
      "//zh.\n",
      "//af.\n",
      "//sk.\n",
      "//ast\n",
      "//az.\n",
      "//bg.\n",
      "//zh-\n",
      "//bn.\n",
      "//be.\n",
      "//ca.\n",
      "//cs.\n",
      "//cy.\n",
      "//da.\n",
      "//et.\n",
      "//el.\n",
      "//eo.\n",
      "//eu.\n",
      "//fa.\n",
      "//gl.\n",
      "//ko.\n",
      "//hy.\n",
      "//hi.\n",
      "//hr.\n",
      "//id.\n",
      "//he.\n",
      "//ka.\n",
      "//la.\n",
      "//lv.\n",
      "//lt.\n",
      "//hu.\n",
      "//mk.\n",
      "//ms.\n",
      "//min\n",
      "//no.\n",
      "//nn.\n",
      "//ce.\n",
      "//uz.\n",
      "//kk.\n",
      "//ro.\n",
      "//sim\n",
      "//sl.\n",
      "//sr.\n",
      "//sh.\n",
      "//fi.\n",
      "//ta.\n",
      "//tt.\n",
      "//th.\n",
      "//tg.\n",
      "//azb\n",
      "//tr.\n",
      "//ur.\n",
      "//vo.\n",
      "//zh-\n",
      "//my.\n",
      "//ace\n",
      "//als\n",
      "//am.\n",
      "//an.\n",
      "//ban\n",
      "//map\n",
      "//ba.\n",
      "//be-\n",
      "//bcl\n",
      "//bpy\n",
      "//bar\n",
      "//bs.\n",
      "//br.\n",
      "//cv.\n",
      "//nv.\n",
      "//eml\n",
      "//hif\n",
      "//fo.\n",
      "//fy.\n",
      "//ga.\n",
      "//gd.\n",
      "//gu.\n",
      "//ha.\n",
      "//hsb\n",
      "//io.\n",
      "//ilo\n",
      "//ia.\n",
      "//os.\n",
      "//is.\n",
      "//jv.\n",
      "//kn.\n",
      "//ht.\n",
      "//ku.\n",
      "//ckb\n",
      "//ky.\n",
      "//mrj\n",
      "//lb.\n",
      "//li.\n",
      "//lmo\n",
      "//lij\n",
      "//mai\n",
      "//mg.\n",
      "//ml.\n",
      "//zh-\n",
      "//mr.\n",
      "//xmf\n",
      "//mzn\n",
      "//cdo\n",
      "//mn.\n",
      "//nap\n",
      "//new\n",
      "//ne.\n",
      "//frr\n",
      "//oc.\n",
      "//mhr\n",
      "//or.\n",
      "//as.\n",
      "//pa.\n",
      "//pnb\n",
      "//ps.\n",
      "//pms\n",
      "//nds\n",
      "//crh\n",
      "//qu.\n",
      "//sa.\n",
      "//sah\n",
      "//sco\n",
      "//sq.\n",
      "//scn\n",
      "//si.\n",
      "//sd.\n",
      "//szl\n",
      "//su.\n",
      "//sw.\n",
      "//tl.\n",
      "//shn\n",
      "//te.\n",
      "//bug\n",
      "//vec\n",
      "//wa.\n",
      "//wuu\n",
      "//yi.\n",
      "//yo.\n",
      "//diq\n",
      "//bat\n",
      "//zu.\n",
      "//lad\n",
      "//kbd\n",
      "//ang\n",
      "//smn\n",
      "//ab.\n",
      "//hyw\n",
      "//roa\n",
      "//frp\n",
      "//arc\n",
      "//gn.\n",
      "//av.\n",
      "//ay.\n",
      "//bjn\n",
      "//bh.\n",
      "//bi.\n",
      "//bo.\n",
      "//bxr\n",
      "//cbk\n",
      "//co.\n",
      "//za.\n",
      "//dag\n",
      "//ary\n",
      "//se.\n",
      "//pdc\n",
      "//dv.\n",
      "//dsb\n",
      "//myv\n",
      "//ext\n",
      "//fur\n",
      "//gv.\n",
      "//gag\n",
      "//inh\n",
      "//ki.\n",
      "//glk\n",
      "//gan\n",
      "//hak\n",
      "//xal\n",
      "//haw\n",
      "//ig.\n",
      "//rw.\n",
      "//ie.\n",
      "//kbp\n",
      "//pam\n",
      "//csb\n",
      "//kw.\n",
      "//km.\n",
      "//kv.\n",
      "//koi\n",
      "//kg.\n",
      "//gom\n",
      "//ks.\n",
      "//gcr\n",
      "//lo.\n",
      "//lbe\n",
      "//ltg\n",
      "//lez\n",
      "//nia\n",
      "//ln.\n",
      "//jbo\n",
      "//lg.\n",
      "//mt.\n",
      "//mi.\n",
      "//tw.\n",
      "//mwl\n",
      "//mdf\n",
      "//mnw\n",
      "//nqo\n",
      "//fj.\n",
      "//nah\n",
      "//na.\n",
      "//nds\n",
      "//nrm\n",
      "//nov\n",
      "//om.\n",
      "//pi.\n",
      "//pag\n",
      "//pap\n",
      "//pfl\n",
      "//pcd\n",
      "//krc\n",
      "//kaa\n",
      "//ksh\n",
      "//rm.\n",
      "//rue\n",
      "//sm.\n",
      "//sat\n",
      "//sc.\n",
      "//trv\n",
      "//stq\n",
      "//nso\n",
      "//sn.\n",
      "//cu.\n",
      "//so.\n",
      "//srn\n",
      "//kab\n",
      "//roa\n",
      "//tet\n",
      "//tpi\n",
      "//to.\n",
      "//chr\n",
      "//tum\n",
      "//tk.\n",
      "//tyv\n",
      "//udm\n",
      "//ug.\n",
      "//vep\n",
      "//fiu\n",
      "//vls\n",
      "//wo.\n",
      "//xh.\n",
      "//zea\n",
      "//ty.\n",
      "//ak.\n",
      "//bm.\n",
      "//ch.\n",
      "//ny.\n",
      "//ee.\n",
      "//ff.\n",
      "//got\n",
      "//iu.\n",
      "//ik.\n",
      "//kl.\n",
      "//mad\n",
      "//cr.\n",
      "//pih\n",
      "//ami\n",
      "//pwn\n",
      "//pnt\n",
      "//dz.\n",
      "//rmy\n",
      "//rn.\n",
      "//sg.\n",
      "//st.\n",
      "//tn.\n",
      "//ss.\n",
      "//din\n",
      "//chy\n",
      "//ts.\n",
      "//ti.\n",
      "//ve.\n",
      "https\n",
      "#\n",
      "#\n",
      "#\n",
      "#\n",
      "https\n",
      "https\n",
      "https\n",
      "https\n",
      "//com\n",
      "//www\n",
      "//www\n",
      "//www\n",
      "//www\n",
      "//www\n",
      "//www\n",
      "//www\n",
      "//www\n",
      "//www\n",
      "//spe\n",
      "//met\n",
      "https\n",
      "https\n",
      "https\n"
     ]
    }
   ],
   "source": [
    "for u, e in enumerate(soup2.find_all('a')):\n",
    "    print(e.get('href')[:5])"
   ]
  },
  {
   "cell_type": "markdown",
   "metadata": {},
   "source": [
    "## Step 4: Use the os library to create a folder called *wikipedia* and make that the current working directory."
   ]
  },
  {
   "cell_type": "code",
   "execution_count": 11,
   "metadata": {},
   "outputs": [],
   "source": [
    "import os"
   ]
  },
  {
   "cell_type": "code",
   "execution_count": 12,
   "metadata": {},
   "outputs": [],
   "source": [
    "dir1 = os.path.join(r\"C:\\Users\\jvaym\\Desktop\\IRONHACK\\Semana4\\4.4-lab-parallelization\\your-code\\wikipedia\")\n",
    "if not os.path.exists(dir1):\n",
    "    os.mkdir(dir1)"
   ]
  },
  {
   "cell_type": "code",
   "execution_count": 13,
   "metadata": {},
   "outputs": [
    {
     "data": {
      "text/plain": [
       "'C:\\\\Users\\\\jvaym\\\\Desktop\\\\IRONHACK\\\\Semana4\\\\4.4-lab-parallelization\\\\your-code\\\\wikipedia'"
      ]
     },
     "execution_count": 13,
     "metadata": {},
     "output_type": "execute_result"
    }
   ],
   "source": [
    "os.chdir(r\"C:\\Users\\jvaym\\Desktop\\IRONHACK\\Semana4\\4.4-lab-parallelization\\your-code\\wikipedia\")\n",
    "os.getcwd() # Ahí está el path"
   ]
  },
  {
   "cell_type": "markdown",
   "metadata": {},
   "source": [
    "## Step 5: Write a function called index_page that accepts a link and does the following.\n",
    "\n",
    "- Tries to request the content of the page referenced by that link.\n",
    "- Slugifies the filename using the `slugify` function from the [python-slugify](https://pypi.org/project/python-slugify/) library and adds a .html file extension.\n",
    "    - If you don't already have the python-slugify library installed, you can pip install it as follows: `$ pip install python-slugify`.\n",
    "    - To import the slugify function, you would do the following: `from slugify import slugify`.\n",
    "    - You can then slugify a link as follows `slugify(link)`.\n",
    "- Creates a file in the wikipedia folder using the slugified filename and writes the contents of the page to the file.\n",
    "- If an exception occurs during the process above, just `pass`."
   ]
  },
  {
   "cell_type": "code",
   "execution_count": 14,
   "metadata": {},
   "outputs": [],
   "source": [
    "#!pip install python-slugify"
   ]
  },
  {
   "cell_type": "code",
   "execution_count": 15,
   "metadata": {},
   "outputs": [],
   "source": [
    "from slugify import slugify\n",
    "\n",
    "unicode=str()\n",
    "import random as random"
   ]
  },
  {
   "cell_type": "code",
   "execution_count": 16,
   "metadata": {},
   "outputs": [
    {
     "data": {
      "text/plain": [
       "'https-www-marca-com'"
      ]
     },
     "execution_count": 16,
     "metadata": {},
     "output_type": "execute_result"
    }
   ],
   "source": [
    "slugify('https://www.marca.com/')"
   ]
  },
  {
   "cell_type": "code",
   "execution_count": 17,
   "metadata": {},
   "outputs": [],
   "source": [
    "def index_page(s):\n",
    "    html3=req.get(s).content\n",
    "    soup3=bs(html3, 'html.parser')\n",
    "    string = slugify(s)\n",
    "    DIRE = r\"C:\\Users\\jvaym\\Desktop\\IRONHACK\\Semana4\\4.4-lab-parallelization\\your-code\\wikipedia\"\n",
    "    dir_list = os.listdir(DIRE)\n",
    "    with open('file_' + str(random.randint(1, 800)+'.txt'), 'w') as fP:\n",
    "        fp.write(string)"
   ]
  },
  {
   "cell_type": "code",
   "execution_count": 18,
   "metadata": {},
   "outputs": [
    {
     "data": {
      "text/plain": [
       "'file_234'"
      ]
     },
     "execution_count": 18,
     "metadata": {},
     "output_type": "execute_result"
    }
   ],
   "source": [
    "'file_' + str(random.randint(1, 800))"
   ]
  },
  {
   "cell_type": "code",
   "execution_count": 28,
   "metadata": {},
   "outputs": [
    {
     "ename": "TypeError",
     "evalue": "an integer is required (got type str)",
     "output_type": "error",
     "traceback": [
      "\u001b[1;31m---------------------------------------------------------------------------\u001b[0m",
      "\u001b[1;31mTypeError\u001b[0m                                 Traceback (most recent call last)",
      "\u001b[1;32m~\\AppData\\Local\\Temp/ipykernel_59736/149343332.py\u001b[0m in \u001b[0;36m<module>\u001b[1;34m\u001b[0m\n\u001b[0;32m      5\u001b[0m \u001b[0mdir_list\u001b[0m \u001b[1;33m=\u001b[0m \u001b[0mos\u001b[0m\u001b[1;33m.\u001b[0m\u001b[0mlistdir\u001b[0m\u001b[1;33m(\u001b[0m\u001b[0mDIRE\u001b[0m\u001b[1;33m)\u001b[0m\u001b[1;33m\u001b[0m\u001b[1;33m\u001b[0m\u001b[0m\n\u001b[0;32m      6\u001b[0m \u001b[1;32mwith\u001b[0m \u001b[0mopen\u001b[0m\u001b[1;33m(\u001b[0m\u001b[1;34m'hola.txt'\u001b[0m\u001b[1;33m,\u001b[0m \u001b[1;34m'w'\u001b[0m\u001b[1;33m)\u001b[0m\u001b[1;33m:\u001b[0m\u001b[1;33m\u001b[0m\u001b[1;33m\u001b[0m\u001b[0m\n\u001b[1;32m----> 7\u001b[1;33m     \u001b[0mos\u001b[0m\u001b[1;33m.\u001b[0m\u001b[0mwrite\u001b[0m\u001b[1;33m(\u001b[0m\u001b[1;34m'hola.txt'\u001b[0m\u001b[1;33m,\u001b[0m \u001b[0msoup3\u001b[0m\u001b[1;33m)\u001b[0m\u001b[1;33m\u001b[0m\u001b[1;33m\u001b[0m\u001b[0m\n\u001b[0m",
      "\u001b[1;31mTypeError\u001b[0m: an integer is required (got type str)"
     ]
    }
   ],
   "source": [
    "html3=req.get('http://wikipedia.org').content\n",
    "soup3=bs(html3, 'html.parser')\n",
    "#name = slugify('http://wikipedia.org')\n",
    "DIRE = r\"C:\\Users\\jvaym\\Desktop\\IRONHACK\\Semana4\\4.4-lab-parallelization\\your-code\\wikipedia\"\n",
    "dir_list = os.listdir(DIRE)\n",
    "with open('hola.txt', 'w'):\n",
    "    os.write('hola.txt', soup3)"
   ]
  },
  {
   "cell_type": "code",
   "execution_count": null,
   "metadata": {},
   "outputs": [],
   "source": []
  },
  {
   "cell_type": "code",
   "execution_count": null,
   "metadata": {},
   "outputs": [],
   "source": [
    "index_page('https://www.marca.com/')"
   ]
  },
  {
   "cell_type": "markdown",
   "metadata": {},
   "source": [
    "## Step 6: Sequentially loop through the list of links, running the index_page function each time.\n",
    "\n",
    "Remember to include `%%time` at the beginning of the cell so that it measures the time it takes for the cell to run."
   ]
  },
  {
   "cell_type": "code",
   "execution_count": null,
   "metadata": {},
   "outputs": [],
   "source": [
    "#your code"
   ]
  },
  {
   "cell_type": "markdown",
   "metadata": {},
   "source": [
    "## Step 7: Perform the page indexing in parallel and note the difference in performance.\n",
    "\n",
    "Remember to include `%%time` at the beginning of the cell so that it measures the time it takes for the cell to run."
   ]
  },
  {
   "cell_type": "code",
   "execution_count": null,
   "metadata": {},
   "outputs": [],
   "source": [
    "import multiprocessing"
   ]
  },
  {
   "cell_type": "code",
   "execution_count": null,
   "metadata": {},
   "outputs": [],
   "source": [
    "#your code"
   ]
  }
 ],
 "metadata": {
  "kernelspec": {
   "display_name": "Python 3 (ipykernel)",
   "language": "python",
   "name": "python3"
  },
  "language_info": {
   "codemirror_mode": {
    "name": "ipython",
    "version": 3
   },
   "file_extension": ".py",
   "mimetype": "text/x-python",
   "name": "python",
   "nbconvert_exporter": "python",
   "pygments_lexer": "ipython3",
   "version": "3.9.7"
  },
  "toc": {
   "base_numbering": 1,
   "nav_menu": {},
   "number_sections": true,
   "sideBar": true,
   "skip_h1_title": false,
   "title_cell": "Table of Contents",
   "title_sidebar": "Contents",
   "toc_cell": true,
   "toc_position": {},
   "toc_section_display": true,
   "toc_window_display": false
  },
  "varInspector": {
   "cols": {
    "lenName": 16,
    "lenType": 16,
    "lenVar": 40
   },
   "kernels_config": {
    "python": {
     "delete_cmd_postfix": "",
     "delete_cmd_prefix": "del ",
     "library": "var_list.py",
     "varRefreshCmd": "print(var_dic_list())"
    },
    "r": {
     "delete_cmd_postfix": ") ",
     "delete_cmd_prefix": "rm(",
     "library": "var_list.r",
     "varRefreshCmd": "cat(var_dic_list()) "
    }
   },
   "types_to_exclude": [
    "module",
    "function",
    "builtin_function_or_method",
    "instance",
    "_Feature"
   ],
   "window_display": false
  }
 },
 "nbformat": 4,
 "nbformat_minor": 2
}
