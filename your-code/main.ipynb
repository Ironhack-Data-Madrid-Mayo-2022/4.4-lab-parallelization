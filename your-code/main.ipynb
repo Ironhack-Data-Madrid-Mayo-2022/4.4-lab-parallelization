{
 "cells": [
  {
   "cell_type": "markdown",
   "metadata": {
    "toc": true
   },
   "source": [
    "<h1>Table of Contents<span class=\"tocSkip\"></span></h1>\n",
    "<div class=\"toc\"><ul class=\"toc-item\"><li><span><a href=\"#Parallelization-Lab\" data-toc-modified-id=\"Parallelization-Lab-1\"><span class=\"toc-item-num\">1&nbsp;&nbsp;</span>Parallelization Lab</a></span><ul class=\"toc-item\"><li><span><a href=\"#Step-1:-Use-the-requests-library-to-retrieve-the-content-from-the-URL-below.\" data-toc-modified-id=\"Step-1:-Use-the-requests-library-to-retrieve-the-content-from-the-URL-below.-1.1\"><span class=\"toc-item-num\">1.1&nbsp;&nbsp;</span>Step 1: Use the requests library to retrieve the content from the URL below.</a></span></li><li><span><a href=\"#Step-2:-Use-BeautifulSoup-to-extract-a-list-of-all-the-unique-links-on-the-page.\" data-toc-modified-id=\"Step-2:-Use-BeautifulSoup-to-extract-a-list-of-all-the-unique-links-on-the-page.-1.2\"><span class=\"toc-item-num\">1.2&nbsp;&nbsp;</span>Step 2: Use BeautifulSoup to extract a list of all the unique links on the page.</a></span></li><li><span><a href=\"#Step-3:-Use-list-comprehensions-with-conditions-to-clean-the-link-list.\" data-toc-modified-id=\"Step-3:-Use-list-comprehensions-with-conditions-to-clean-the-link-list.-1.3\"><span class=\"toc-item-num\">1.3&nbsp;&nbsp;</span>Step 3: Use list comprehensions with conditions to clean the link list.</a></span></li><li><span><a href=\"#Step-4:-Use-the-os-library-to-create-a-folder-called-wikipedia-and-make-that-the-current-working-directory.\" data-toc-modified-id=\"Step-4:-Use-the-os-library-to-create-a-folder-called-wikipedia-and-make-that-the-current-working-directory.-1.4\"><span class=\"toc-item-num\">1.4&nbsp;&nbsp;</span>Step 4: Use the os library to create a folder called <em>wikipedia</em> and make that the current working directory.</a></span></li><li><span><a href=\"#Step-5:-Write-a-function-called-index_page-that-accepts-a-link-and-does-the-following.\" data-toc-modified-id=\"Step-5:-Write-a-function-called-index_page-that-accepts-a-link-and-does-the-following.-1.5\"><span class=\"toc-item-num\">1.5&nbsp;&nbsp;</span>Step 5: Write a function called index_page that accepts a link and does the following.</a></span></li><li><span><a href=\"#Step-6:-Sequentially-loop-through-the-list-of-links,-running-the-index_page-function-each-time.\" data-toc-modified-id=\"Step-6:-Sequentially-loop-through-the-list-of-links,-running-the-index_page-function-each-time.-1.6\"><span class=\"toc-item-num\">1.6&nbsp;&nbsp;</span>Step 6: Sequentially loop through the list of links, running the index_page function each time.</a></span></li><li><span><a href=\"#Step-7:-Perform-the-page-indexing-in-parallel-and-note-the-difference-in-performance.\" data-toc-modified-id=\"Step-7:-Perform-the-page-indexing-in-parallel-and-note-the-difference-in-performance.-1.7\"><span class=\"toc-item-num\">1.7&nbsp;&nbsp;</span>Step 7: Perform the page indexing in parallel and note the difference in performance.</a></span></li></ul></li></ul></div>"
   ]
  },
  {
   "cell_type": "markdown",
   "metadata": {},
   "source": [
    "# Parallelization Lab\n",
    "\n",
    "In this lab, you will be leveraging several concepts you have learned to obtain a list of links from a web page and crawl and index the pages referenced by those links - both sequentially and in parallel. Follow the steps below to complete the lab."
   ]
  },
  {
   "cell_type": "markdown",
   "metadata": {},
   "source": [
    "## Step 1: Use the requests library to retrieve the content from the URL below.\n",
    "\n",
    "https://en.wikipedia.org/wiki/Data_science"
   ]
  },
  {
   "cell_type": "code",
   "execution_count": 28,
   "metadata": {},
   "outputs": [],
   "source": [
    "import multiprocessing\n",
    "import requests as req\n",
    "\n",
    "url = 'https://en.wikipedia.org/wiki/Data_science'"
   ]
  },
  {
   "cell_type": "code",
   "execution_count": 29,
   "metadata": {},
   "outputs": [
    {
     "data": {
      "text/plain": [
       "<Response [200]>"
      ]
     },
     "execution_count": 29,
     "metadata": {},
     "output_type": "execute_result"
    }
   ],
   "source": [
    "#your code\n",
    "url = 'https://en.wikipedia.org/wiki/Data_science'\n",
    "respuesta = req.get(url)\n",
    "respuesta "
   ]
  },
  {
   "cell_type": "markdown",
   "metadata": {},
   "source": [
    "## Step 2: Use BeautifulSoup to extract a list of all the unique links on the page."
   ]
  },
  {
   "cell_type": "code",
   "execution_count": 37,
   "metadata": {},
   "outputs": [],
   "source": [
    "import re\n",
    "import pandas as pd"
   ]
  },
  {
   "cell_type": "code",
   "execution_count": 31,
   "metadata": {
    "scrolled": true
   },
   "outputs": [],
   "source": [
    "#your code\n",
    "import requests as req\n",
    "\n",
    "from bs4 import BeautifulSoup as bs"
   ]
  },
  {
   "cell_type": "code",
   "execution_count": 32,
   "metadata": {},
   "outputs": [],
   "source": [
    "html=req.get(url).content\n",
    "#html ok"
   ]
  },
  {
   "cell_type": "code",
   "execution_count": 33,
   "metadata": {},
   "outputs": [],
   "source": [
    "soup=bs(html, 'html.parser')   #parseada"
   ]
  },
  {
   "cell_type": "code",
   "execution_count": 35,
   "metadata": {
    "scrolled": false
   },
   "outputs": [],
   "source": [
    "tabla=soup.find_all('html')\n"
   ]
  },
  {
   "cell_type": "code",
   "execution_count": 104,
   "metadata": {},
   "outputs": [
    {
     "data": {
      "text/plain": [
       "['#mw-head',\n",
       " '#searchInput',\n",
       " '/wiki/Information_science',\n",
       " '/wiki/File:PIA23792-1600x1200(1).jpg',\n",
       " '/wiki/File:PIA23792-1600x1200(1).jpg',\n",
       " '/wiki/Comet_NEOWISE',\n",
       " '/wiki/Astronomical_survey',\n",
       " '/wiki/Space_telescope',\n",
       " '/wiki/Wide-field_Infrared_Survey_Explorer',\n",
       " '/wiki/Interdisciplinary',\n",
       " '/wiki/Scientific_method',\n",
       " '/wiki/Algorithm',\n",
       " '/wiki/Knowledge',\n",
       " '/wiki/Unstructured_data',\n",
       " '#cite_note-1',\n",
       " '#cite_note-2',\n",
       " '/wiki/Data_mining',\n",
       " '/wiki/Machine_learning',\n",
       " '/wiki/Big_data',\n",
       " '/wiki/Statistics',\n",
       " '/wiki/Data_analysis',\n",
       " '/wiki/Informatics',\n",
       " '/wiki/Scientific_method',\n",
       " '/wiki/Phenomena',\n",
       " '/wiki/Data',\n",
       " '#cite_note-3',\n",
       " '/wiki/Mathematics',\n",
       " '/wiki/Computer_science',\n",
       " '/wiki/Information_science',\n",
       " '/wiki/Domain_knowledge',\n",
       " '#cite_note-4',\n",
       " '/wiki/Turing_Award',\n",
       " '/wiki/Jim_Gray_(computer_scientist)',\n",
       " '/wiki/Empirical_research',\n",
       " '/wiki/Basic_research',\n",
       " '/wiki/Computational_science',\n",
       " '/wiki/Information_technology',\n",
       " '/wiki/Information_explosion',\n",
       " '#cite_note-TansleyTolle2009-5',\n",
       " '#cite_note-BellHey2009-6',\n",
       " '#cite_note-7',\n",
       " '#Foundations',\n",
       " '#Relationship_to_statistics',\n",
       " '#Etymology',\n",
       " '#Early_usage',\n",
       " '#Modern_usage',\n",
       " '#See_also',\n",
       " '#References',\n",
       " '/w/index.php?title=Data_science&action=edit&section=1',\n",
       " '/wiki/Interdisciplinarity',\n",
       " '/wiki/Academic_discipline',\n",
       " '/wiki/Big_data',\n",
       " '/wiki/Data_set',\n",
       " '/wiki/Problem_solving',\n",
       " '#cite_note-8',\n",
       " '/wiki/Analysis',\n",
       " '/wiki/Data_visualization',\n",
       " '/wiki/Information_visualization',\n",
       " '/wiki/Data_sonification',\n",
       " '/wiki/Data_integration',\n",
       " '/wiki/Graphic_design',\n",
       " '/wiki/Complex_systems',\n",
       " '/wiki/Communication',\n",
       " '/wiki/Business',\n",
       " '#cite_note-9',\n",
       " '#cite_note-10',\n",
       " '/wiki/Nathan_Yau',\n",
       " '/wiki/Ben_Fry',\n",
       " '/wiki/Human%E2%80%93computer_interaction',\n",
       " '/wiki/Exploration',\n",
       " '#cite_note-11',\n",
       " '#cite_note-12',\n",
       " '/wiki/American_Statistical_Association',\n",
       " '/wiki/Database',\n",
       " '/wiki/Machine_learning',\n",
       " '/wiki/Distributed_computing',\n",
       " '#cite_note-13',\n",
       " '/w/index.php?title=Data_science&action=edit&section=2',\n",
       " '/wiki/Nate_Silver',\n",
       " '#cite_note-14',\n",
       " '#cite_note-15',\n",
       " '/wiki/Vasant_Dhar',\n",
       " '#cite_note-16',\n",
       " '/wiki/Andrew_Gelman',\n",
       " '/wiki/Columbia_University',\n",
       " '#cite_note-17',\n",
       " '/wiki/David_Donoho',\n",
       " '#cite_note-:7-18',\n",
       " '/w/index.php?title=Data_science&action=edit&section=3',\n",
       " '/w/index.php?title=Data_science&action=edit&section=4',\n",
       " '/wiki/John_Tukey',\n",
       " '#cite_note-:7-18',\n",
       " '/wiki/C._F._Jeff_Wu',\n",
       " '#cite_note-19',\n",
       " '/wiki/Montpellier_2_University',\n",
       " '#cite_note-20',\n",
       " '#cite_note-Murtagh_2018_14-21',\n",
       " '/wiki/Peter_Naur',\n",
       " '#cite_note-:0-22',\n",
       " '#cite_note-:0-22',\n",
       " '/wiki/C._F._Jeff_Wu',\n",
       " '#cite_note-23',\n",
       " '#cite_note-Murtagh_2018_14-21',\n",
       " '/wiki/Data_mining',\n",
       " '#cite_note-:1-24',\n",
       " '#cite_note-:0-22',\n",
       " '/w/index.php?title=Data_science&action=edit&section=5',\n",
       " '/wiki/William_S._Cleveland',\n",
       " '#cite_note-25',\n",
       " '#cite_note-:1-24',\n",
       " '/wiki/Committee_on_Data_for_Science_and_Technology',\n",
       " '#cite_note-:1-24',\n",
       " '/wiki/American_Statistical_Association',\n",
       " '#cite_note-26',\n",
       " '/wiki/DJ_Patil',\n",
       " '/wiki/Jeff_Hammerbacher',\n",
       " '#cite_note-27',\n",
       " '/wiki/National_Science_Board',\n",
       " '#cite_note-28',\n",
       " '/wiki/Buzzword',\n",
       " '#cite_note-29',\n",
       " '/wiki/Big_data',\n",
       " '#cite_note-:5-30',\n",
       " '#cite_note-:6-31',\n",
       " '/w/index.php?title=Data_science&action=edit&section=6',\n",
       " '/wiki/International_Journal_of_Population_Data_Science',\n",
       " '/w/index.php?title=Data_science&action=edit&section=7',\n",
       " '#cite_ref-1',\n",
       " 'http://cacm.acm.org/magazines/2013/12/169933-data-science-and-prediction/fulltext',\n",
       " '/wiki/Doi_(identifier)',\n",
       " 'https://doi.org/10.1145%2F2500499',\n",
       " '/wiki/S2CID_(identifier)',\n",
       " 'https://api.semanticscholar.org/CorpusID:6107147',\n",
       " 'https://web.archive.org/web/20141109113411/http://cacm.acm.org/magazines/2013/12/169933-data-science-and-prediction/fulltext',\n",
       " '#cite_ref-2',\n",
       " '/wiki/Jeffrey_T._Leek',\n",
       " 'http://simplystatistics.org/2013/12/12/the-key-word-in-data-science-is-not-data-it-is-science/',\n",
       " 'https://web.archive.org/web/20140102194117/http://simplystatistics.org/2013/12/12/the-key-word-in-data-science-is-not-data-it-is-science/',\n",
       " '#cite_ref-3',\n",
       " 'https://www.springer.com/book/9784431702085',\n",
       " '/wiki/Doi_(identifier)',\n",
       " 'https://doi.org/10.1007%2F978-4-431-65950-1_3',\n",
       " '/wiki/ISBN_(identifier)',\n",
       " '/wiki/Special:BookSources/9784431702085',\n",
       " '#cite_ref-4',\n",
       " '/wiki/Doi_(identifier)',\n",
       " 'https://doi.org/10.1145%2F3076253',\n",
       " '/wiki/ISSN_(identifier)',\n",
       " '//www.worldcat.org/issn/0360-0300',\n",
       " '#cite_ref-TansleyTolle2009_5-0',\n",
       " 'https://books.google.com/books?id=oGs_AQAAIAAJ',\n",
       " '/wiki/ISBN_(identifier)',\n",
       " '/wiki/Special:BookSources/978-0-9825442-0-4',\n",
       " 'https://web.archive.org/web/20170320193019/https://books.google.com/books?id=oGs_AQAAIAAJ',\n",
       " '#cite_ref-BellHey2009_6-0',\n",
       " '/wiki/Doi_(identifier)',\n",
       " 'https://doi.org/10.1126%2Fscience.1170411',\n",
       " '/wiki/ISSN_(identifier)',\n",
       " '//www.worldcat.org/issn/0036-8075',\n",
       " '/wiki/PMID_(identifier)',\n",
       " '//pubmed.ncbi.nlm.nih.gov/19265007',\n",
       " '/wiki/S2CID_(identifier)',\n",
       " 'https://api.semanticscholar.org/CorpusID:9743327',\n",
       " '#cite_ref-7',\n",
       " 'https://hbr.org/2012/10/data-scientist-the-sexiest-job-of-the-21st-century/',\n",
       " '/wiki/PMID_(identifier)',\n",
       " '//pubmed.ncbi.nlm.nih.gov/23074866',\n",
       " '#cite_ref-8',\n",
       " 'http://www.datascienceassn.org/about-data-science',\n",
       " '#cite_ref-9',\n",
       " 'https://www.oreilly.com/library/view/doing-data-science/9781449363871/ch01.html',\n",
       " '#cite_ref-10',\n",
       " 'https://medriscoll.com/post/4740157098/the-three-sexy-skills-of-data-geeks',\n",
       " '#cite_ref-11',\n",
       " 'https://flowingdata.com/2009/06/04/rise-of-the-data-scientist/',\n",
       " '#cite_ref-12',\n",
       " 'https://benfry.com/phd/dissertation/2.html',\n",
       " '#cite_ref-13',\n",
       " 'https://magazine.amstat.org/blog/2015/10/01/asa-statement-on-the-role-of-statistics-in-data-science/',\n",
       " '/wiki/American_Statistical_Association',\n",
       " 'https://web.archive.org/web/20190620184935/https://magazine.amstat.org/blog/2015/10/01/asa-statement-on-the-role-of-statistics-in-data-science/',\n",
       " '#cite_ref-14',\n",
       " 'https://www.statisticsviews.com/article/nate-silver-what-i-need-from-statisticians/',\n",
       " '#cite_ref-15',\n",
       " 'http://priceonomics.com/whats-the-difference-between-data-science-and/',\n",
       " '#cite_ref-16',\n",
       " '/wiki/Doi_(identifier)',\n",
       " 'https://doi.org/10.1145%2F2500499',\n",
       " '/wiki/S2CID_(identifier)',\n",
       " 'https://api.semanticscholar.org/CorpusID:6107147',\n",
       " '#cite_ref-17',\n",
       " 'https://statmodeling.stat.columbia.edu/2013/11/14/statistics-least-important-part-data-science/',\n",
       " '#cite_ref-:7_18-0',\n",
       " '#cite_ref-:7_18-1',\n",
       " 'http://courses.csail.mit.edu/18.337/2015/docs/50YearsDataScience.pdf',\n",
       " '#cite_ref-19',\n",
       " 'https://www2.isye.gatech.edu/~jeffwu/publications/fazhan.pdf',\n",
       " '#cite_ref-20',\n",
       " '/wiki/ISBN_(identifier)',\n",
       " '/wiki/Special:BookSources/0-12-241770-4',\n",
       " '/wiki/OCLC_(identifier)',\n",
       " '//www.worldcat.org/oclc/489990740',\n",
       " '#cite_ref-Murtagh_2018_14_21-0',\n",
       " '#cite_ref-Murtagh_2018_14_21-1',\n",
       " 'https://doi.org/10.3390%2Fbdcc2020014',\n",
       " '/wiki/Doi_(identifier)',\n",
       " 'https://doi.org/10.3390%2Fbdcc2020014',\n",
       " '#cite_ref-:0_22-0',\n",
       " '#cite_ref-:0_22-1',\n",
       " '#cite_ref-:0_22-2',\n",
       " 'https://doi.org/10.1145%2F3076253',\n",
       " '/wiki/ArXiv_(identifier)',\n",
       " '//arxiv.org/abs/2007.03606',\n",
       " '/wiki/Doi_(identifier)',\n",
       " 'https://doi.org/10.1145%2F3076253',\n",
       " '#cite_ref-23',\n",
       " 'http://www2.isye.gatech.edu/~jeffwu/presentations/datascience.pdf',\n",
       " '#cite_ref-:1_24-0',\n",
       " '#cite_ref-:1_24-1',\n",
       " '#cite_ref-:1_24-2',\n",
       " 'https://www.forbes.com/sites/gilpress/2013/05/28/a-very-short-history-of-data-science/',\n",
       " '#cite_ref-25',\n",
       " 'https://www.stat.purdue.edu/~wsc/',\n",
       " '#cite_ref-26',\n",
       " 'https://magazine.amstat.org/blog/2016/06/01/datascience-2/',\n",
       " '#cite_ref-27',\n",
       " 'https://hbr.org/2012/10/data-scientist-the-sexiest-job-of-the-21st-century',\n",
       " '/wiki/ISSN_(identifier)',\n",
       " '//www.worldcat.org/issn/0017-8012',\n",
       " '#cite_ref-28',\n",
       " 'https://www.nsf.gov/pubs/2005/nsb0540/',\n",
       " '#cite_ref-29',\n",
       " 'https://www.forbes.com/sites/gilpress/2013/08/19/data-science-whats-the-half-life-of-a-buzzword/',\n",
       " '#cite_ref-:5_30-0',\n",
       " 'https://www.forbes.com/sites/peterpham/2015/08/28/the-impacts-of-big-data-that-you-may-not-have-heard-of/',\n",
       " '#cite_ref-:6_31-0',\n",
       " 'https://towardsdatascience.com/how-data-science-will-impact-future-of-businesses-7f11f5699c4d',\n",
       " '/wiki/Template:Data',\n",
       " '/wiki/Template_talk:Data',\n",
       " 'https://en.wikipedia.org/w/index.php?title=Template:Data&action=edit',\n",
       " '/wiki/Data_(computing)',\n",
       " '/wiki/Data_augmentation',\n",
       " '/wiki/Data_analysis',\n",
       " '/wiki/Data_archaeology',\n",
       " '/wiki/Data_cleansing',\n",
       " '/wiki/Data_collection',\n",
       " '/wiki/Data_compression',\n",
       " '/wiki/Data_corruption',\n",
       " '/wiki/Data_curation',\n",
       " '/wiki/Data_degradation',\n",
       " '/wiki/Data_editing',\n",
       " '/wiki/Extract,_transform,_load',\n",
       " '/wiki/Extract,_load,_transform',\n",
       " '/wiki/Data_extraction',\n",
       " '/wiki/Data_transformation',\n",
       " '/wiki/Data_loading',\n",
       " '/wiki/Data_farming',\n",
       " '/wiki/Data_format_management',\n",
       " '/wiki/Data_fusion',\n",
       " '/wiki/Data_integration',\n",
       " '/wiki/Data_integrity',\n",
       " '/wiki/Data_library',\n",
       " '/wiki/Data_loss',\n",
       " '/wiki/Data_management',\n",
       " '/wiki/Data_migration',\n",
       " '/wiki/Data_mining',\n",
       " '/wiki/Data_pre-processing',\n",
       " '/wiki/Data_preservation',\n",
       " '/wiki/Information_privacy',\n",
       " '/wiki/Data_publishing',\n",
       " '/wiki/Data_recovery',\n",
       " '/wiki/Data_reduction',\n",
       " '/wiki/Data_retention',\n",
       " '/wiki/Data_quality',\n",
       " '/wiki/Data_scraping',\n",
       " '/wiki/Data_scrubbing',\n",
       " '/wiki/Data_security',\n",
       " '/wiki/Data_steward',\n",
       " '/wiki/Data_storage',\n",
       " '/wiki/Data_validation',\n",
       " '/wiki/Data_warehouse',\n",
       " '/wiki/Data_wrangling',\n",
       " 'https://en.wikipedia.org/w/index.php?title=Data_science&oldid=1093351141',\n",
       " '/wiki/Help:Category',\n",
       " '/wiki/Category:Information_science',\n",
       " '/wiki/Category:Computer_occupations',\n",
       " '/wiki/Category:Computational_fields_of_study',\n",
       " '/wiki/Category:Data_analysis',\n",
       " '/wiki/Category:Articles_with_short_description',\n",
       " '/wiki/Category:Short_description_matches_Wikidata',\n",
       " '/wiki/Category:Use_dmy_dates_from_August_2021',\n",
       " '/wiki/Special:MyTalk',\n",
       " '/wiki/Special:MyContributions',\n",
       " '/w/index.php?title=Special:CreateAccount&returnto=Data+science',\n",
       " '/w/index.php?title=Special:UserLogin&returnto=Data+science',\n",
       " '/wiki/Data_science',\n",
       " '/wiki/Talk:Data_science',\n",
       " '/wiki/Data_science',\n",
       " '/w/index.php?title=Data_science&action=edit',\n",
       " '/w/index.php?title=Data_science&action=history',\n",
       " '/wiki/Main_Page',\n",
       " '/wiki/Main_Page',\n",
       " '/wiki/Wikipedia:Contents',\n",
       " '/wiki/Portal:Current_events',\n",
       " '/wiki/Special:Random',\n",
       " '/wiki/Wikipedia:About',\n",
       " '//en.wikipedia.org/wiki/Wikipedia:Contact_us',\n",
       " 'https://donate.wikimedia.org/wiki/Special:FundraiserRedirector?utm_source=donate&utm_medium=sidebar&utm_campaign=C13_en.wikipedia.org&uselang=en',\n",
       " '/wiki/Help:Contents',\n",
       " '/wiki/Help:Introduction',\n",
       " '/wiki/Wikipedia:Community_portal',\n",
       " '/wiki/Special:RecentChanges',\n",
       " '/wiki/Wikipedia:File_Upload_Wizard',\n",
       " '/wiki/Special:WhatLinksHere/Data_science',\n",
       " '/wiki/Special:RecentChangesLinked/Data_science',\n",
       " '/wiki/Wikipedia:File_Upload_Wizard',\n",
       " '/wiki/Special:SpecialPages',\n",
       " '/w/index.php?title=Data_science&oldid=1093351141',\n",
       " '/w/index.php?title=Data_science&action=info',\n",
       " '/w/index.php?title=Special:CiteThisPage&page=Data_science&id=1093351141&wpFormIdentifier=titleform',\n",
       " 'https://www.wikidata.org/wiki/Special:EntityPage/Q2374463',\n",
       " '/w/index.php?title=Special:DownloadAsPdf&page=Data_science&action=show-download-screen',\n",
       " '/w/index.php?title=Data_science&printable=yes',\n",
       " 'https://commons.wikimedia.org/wiki/Category:Data_science',\n",
       " 'https://en.wikiversity.org/wiki/Data_science',\n",
       " 'https://ar.wikipedia.org/wiki/%D8%B9%D9%84%D9%85_%D8%A7%D9%84%D8%A8%D9%8A%D8%A7%D9%86%D8%A7%D8%AA',\n",
       " 'https://az.wikipedia.org/wiki/Veril%C9%99nl%C9%99r_elmi_(Data_Science)',\n",
       " 'https://bn.wikipedia.org/wiki/%E0%A6%89%E0%A6%AA%E0%A6%BE%E0%A6%A4%E0%A7%8D%E0%A6%A4_%E0%A6%AC%E0%A6%BF%E0%A6%9C%E0%A7%8D%E0%A6%9E%E0%A6%BE%E0%A6%A8',\n",
       " 'https://bg.wikipedia.org/wiki/%D0%9D%D0%B0%D1%83%D0%BA%D0%B0_%D0%B7%D0%B0_%D0%B4%D0%B0%D0%BD%D0%BD%D0%B8%D1%82%D0%B5',\n",
       " 'https://ca.wikipedia.org/wiki/Ci%C3%A8ncia_de_les_dades',\n",
       " 'https://cs.wikipedia.org/wiki/Data_science',\n",
       " 'https://de.wikipedia.org/wiki/Data_Science',\n",
       " 'https://et.wikipedia.org/wiki/Andmeteadus',\n",
       " 'https://el.wikipedia.org/wiki/%CE%95%CF%80%CE%B9%CF%83%CF%84%CE%AE%CE%BC%CE%B7_%CE%B4%CE%B5%CE%B4%CE%BF%CE%BC%CE%AD%CE%BD%CF%89%CE%BD',\n",
       " 'https://es.wikipedia.org/wiki/Ciencia_de_datos',\n",
       " 'https://eo.wikipedia.org/wiki/Datuma_scienco',\n",
       " 'https://eu.wikipedia.org/wiki/Datu_zientzia',\n",
       " 'https://fa.wikipedia.org/wiki/%D8%B9%D9%84%D9%85_%D8%AF%D8%A7%D8%AF%D9%87%E2%80%8C%D9%87%D8%A7',\n",
       " 'https://fr.wikipedia.org/wiki/Science_des_donn%C3%A9es',\n",
       " 'https://ko.wikipedia.org/wiki/%EB%8D%B0%EC%9D%B4%ED%84%B0_%EC%82%AC%EC%9D%B4%EC%96%B8%EC%8A%A4',\n",
       " 'https://hy.wikipedia.org/wiki/%D5%8F%D5%BE%D5%B5%D5%A1%D5%AC%D5%B6%D5%A5%D6%80%D5%AB_%D5%A3%D5%AB%D5%BF%D5%B8%D6%82%D5%A9%D5%B5%D5%B8%D6%82%D5%B6',\n",
       " 'https://hi.wikipedia.org/wiki/%E0%A4%86%E0%A4%81%E0%A4%95%E0%A4%A1%E0%A4%BC%E0%A4%BE_%E0%A4%B5%E0%A4%BF%E0%A4%9C%E0%A5%8D%E0%A4%9E%E0%A4%BE%E0%A4%A8',\n",
       " 'https://id.wikipedia.org/wiki/Ilmu_data',\n",
       " 'https://it.wikipedia.org/wiki/Scienza_dei_dati',\n",
       " 'https://he.wikipedia.org/wiki/%D7%9E%D7%93%D7%A2_%D7%94%D7%A0%D7%AA%D7%95%D7%A0%D7%99%D7%9D',\n",
       " 'https://kk.wikipedia.org/wiki/%D0%94%D0%B5%D1%80%D0%B5%D0%BA%D1%82%D0%B5%D1%80_%D1%82%D1%83%D1%80%D0%B0%D0%BB%D1%8B_%D2%93%D1%8B%D0%BB%D1%8B%D0%BC',\n",
       " 'https://lv.wikipedia.org/wiki/Datu_m%C4%81c%C4%ABba',\n",
       " 'https://mk.wikipedia.org/wiki/%D0%9D%D0%B0%D1%83%D0%BA%D0%B0_%D0%B7%D0%B0_%D0%BF%D0%BE%D0%B4%D0%B0%D1%82%D0%BE%D1%86%D0%B8',\n",
       " 'https://ms.wikipedia.org/wiki/Sains_data',\n",
       " 'https://my.wikipedia.org/wiki/%E1%80%A1%E1%80%81%E1%80%BB%E1%80%80%E1%80%BA%E1%80%A1%E1%80%9C%E1%80%80%E1%80%BA%E1%80%9E%E1%80%AD%E1%80%95%E1%80%B9%E1%80%95%E1%80%B6%E1%80%95%E1%80%8A%E1%80%AC',\n",
       " 'https://nl.wikipedia.org/wiki/Datawetenschap',\n",
       " 'https://ja.wikipedia.org/wiki/%E3%83%87%E3%83%BC%E3%82%BF%E3%82%B5%E3%82%A4%E3%82%A8%E3%83%B3%E3%82%B9',\n",
       " 'https://pl.wikipedia.org/wiki/Danologia',\n",
       " 'https://pt.wikipedia.org/wiki/Ci%C3%AAncia_de_dados',\n",
       " 'https://ru.wikipedia.org/wiki/%D0%9D%D0%B0%D1%83%D0%BA%D0%B0_%D0%BE_%D0%B4%D0%B0%D0%BD%D0%BD%D1%8B%D1%85',\n",
       " 'https://simple.wikipedia.org/wiki/Data_science',\n",
       " 'https://fi.wikipedia.org/wiki/Datatiede',\n",
       " 'https://ta.wikipedia.org/wiki/%E0%AE%A4%E0%AE%B0%E0%AE%B5%E0%AF%81_%E0%AE%85%E0%AE%B1%E0%AE%BF%E0%AE%B5%E0%AE%BF%E0%AE%AF%E0%AE%B2%E0%AF%8D',\n",
       " 'https://th.wikipedia.org/wiki/%E0%B8%A7%E0%B8%B4%E0%B8%97%E0%B8%A2%E0%B8%B2%E0%B8%81%E0%B8%B2%E0%B8%A3%E0%B8%82%E0%B9%89%E0%B8%AD%E0%B8%A1%E0%B8%B9%E0%B8%A5',\n",
       " 'https://tr.wikipedia.org/wiki/Veri_bilimi',\n",
       " 'https://uk.wikipedia.org/wiki/%D0%9D%D0%B0%D1%83%D0%BA%D0%B0_%D0%BF%D1%80%D0%BE_%D0%B4%D0%B0%D0%BD%D1%96',\n",
       " 'https://ur.wikipedia.org/wiki/%DA%88%DB%8C%D9%B9%D8%A7_%D8%B3%D8%A7%D8%A6%D9%86%D8%B3',\n",
       " 'https://vi.wikipedia.org/wiki/Khoa_h%E1%BB%8Dc_d%E1%BB%AF_li%E1%BB%87u',\n",
       " 'https://zh-yue.wikipedia.org/wiki/%E6%95%B8%E6%93%9A%E7%A7%91%E5%AD%B8',\n",
       " 'https://zh.wikipedia.org/wiki/%E6%95%B0%E6%8D%AE%E7%A7%91%E5%AD%A6',\n",
       " 'https://www.wikidata.org/wiki/Special:EntityPage/Q2374463#sitelinks-wikipedia',\n",
       " '//en.wikipedia.org/wiki/Wikipedia:Text_of_Creative_Commons_Attribution-ShareAlike_3.0_Unported_License',\n",
       " '//creativecommons.org/licenses/by-sa/3.0/',\n",
       " '//foundation.wikimedia.org/wiki/Terms_of_Use',\n",
       " '//foundation.wikimedia.org/wiki/Privacy_policy',\n",
       " '//www.wikimediafoundation.org/',\n",
       " 'https://foundation.wikimedia.org/wiki/Privacy_policy',\n",
       " '/wiki/Wikipedia:About',\n",
       " '/wiki/Wikipedia:General_disclaimer',\n",
       " '//en.wikipedia.org/wiki/Wikipedia:Contact_us',\n",
       " '//en.m.wikipedia.org/w/index.php?title=Data_science&mobileaction=toggle_view_mobile',\n",
       " 'https://www.mediawiki.org/wiki/Special:MyLanguage/How_to_contribute',\n",
       " 'https://stats.wikimedia.org/#/en.wikipedia.org',\n",
       " 'https://foundation.wikimedia.org/wiki/Cookie_statement',\n",
       " 'https://wikimediafoundation.org/',\n",
       " 'https://www.mediawiki.org/']"
      ]
     },
     "execution_count": 104,
     "metadata": {},
     "output_type": "execute_result"
    }
   ],
   "source": [
    "#tabla2=soup.find_all('link')\n",
    "\n",
    "#tabla2[5:10]  \n",
    "\n",
    "#Esta mejor4\n",
    "links= []\n",
    "\n",
    "for a in soup.find_all('a', href=True):\n",
    "    links.append(a['href'])\n",
    "\n",
    "links"
   ]
  },
  {
   "cell_type": "markdown",
   "metadata": {},
   "source": [
    "## Step 3: Use list comprehensions with conditions to clean the link list.\n",
    "\n",
    "There are two types of links, absolute and relative. Absolute links have the full URL and begin with http while relative links begin with a forward slash (/) and point to an internal page within the wikipedia.org domain. Clean the respective types of URLs as follows.\n",
    "\n",
    "- Absolute Links: Create a list of these and remove any that contain a percentage sign (%).\n",
    "- Relativel Links: Create a list of these, add the domain to the link so that you have the full URL, and remove any that contain a percentage sign (%).\n",
    "- Combine the list of absolute and relative links and ensure there are no duplicates."
   ]
  },
  {
   "cell_type": "code",
   "execution_count": 22,
   "metadata": {},
   "outputs": [],
   "source": [
    "domain = 'http://wikipedia.org'"
   ]
  },
  {
   "cell_type": "code",
   "execution_count": 122,
   "metadata": {},
   "outputs": [
    {
     "data": {
      "text/plain": [
       "['http://cacm.acm.org/magazines/2013/12/169933-data-science-and-prediction/fulltext',\n",
       " 'https://doi.org/10.1145%2F2500499',\n",
       " 'https://api.semanticscholar.org/CorpusID:6107147',\n",
       " 'https://web.archive.org/web/20141109113411/http://cacm.acm.org/magazines/2013/12/169933-data-science-and-prediction/fulltext',\n",
       " 'http://simplystatistics.org/2013/12/12/the-key-word-in-data-science-is-not-data-it-is-science/',\n",
       " '#mw-head',\n",
       " '#searchInput',\n",
       " '/wiki/Information_science',\n",
       " '/wiki/File:PIA23792-1600x1200(1).jpg',\n",
       " '/wiki/File:PIA23792-1600x1200(1).jpg']"
      ]
     },
     "execution_count": 122,
     "metadata": {},
     "output_type": "execute_result"
    }
   ],
   "source": [
    "ab_links= []\n",
    "rel_links = []\n",
    "\n",
    "for link in links:\n",
    "    if link.startswith('#') or link.startswith('/w'):\n",
    "        rel_links.append(link)\n",
    "    elif link.startswith('https:') or link.startswith('//') or link.startswith('http'):\n",
    "        ab_links.append(link)\n",
    "\n",
    "ab_links[:5] + rel_links[:5]"
   ]
  },
  {
   "cell_type": "markdown",
   "metadata": {},
   "source": [
    "## Step 4: Use the os library to create a folder called *wikipedia* and make that the current working directory."
   ]
  },
  {
   "cell_type": "code",
   "execution_count": 127,
   "metadata": {},
   "outputs": [],
   "source": [
    "import os\n",
    "\n",
    "path = '/Users/lucia/4.4-lab-parallelization/your-code'\n",
    "directory = 'wikipedia'\n",
    "\n",
    "full_path = os.path.join(path,directory)\n",
    "os.mkdir(full_path)\n"
   ]
  },
  {
   "cell_type": "code",
   "execution_count": 130,
   "metadata": {},
   "outputs": [
    {
     "name": "stdout",
     "output_type": "stream",
     "text": [
      "/Users/lucia/4.4-lab-parallelization/your-code/wikipedia\n"
     ]
    }
   ],
   "source": [
    "%cd '/Users/lucia/4.4-lab-parallelization/your-code/wikipedia'   #Esto se llaman magic links"
   ]
  },
  {
   "cell_type": "code",
   "execution_count": 131,
   "metadata": {},
   "outputs": [
    {
     "data": {
      "text/plain": [
       "'/Users/lucia/4.4-lab-parallelization/your-code/wikipedia'"
      ]
     },
     "execution_count": 131,
     "metadata": {},
     "output_type": "execute_result"
    }
   ],
   "source": [
    "pwd"
   ]
  },
  {
   "cell_type": "markdown",
   "metadata": {},
   "source": [
    "## Step 5: Write a function called index_page that accepts a link and does the following.\n",
    "\n",
    "- Tries to request the content of the page referenced by that link.\n",
    "- Slugifies the filename using the `slugify` function from the [python-slugify](https://pypi.org/project/python-slugify/) library and adds a .html file extension.\n",
    "    - If you don't already have the python-slugify library installed, you can pip install it as follows: `$ pip install python-slugify`.\n",
    "    - To import the slugify function, you would do the following: `from slugify import slugify`.\n",
    "    - You can then slugify a link as follows `slugify(link)`.\n",
    "- Creates a file in the wikipedia folder using the slugified filename and writes the contents of the page to the file.\n",
    "- If an exception occurs during the process above, just `pass`."
   ]
  },
  {
   "cell_type": "code",
   "execution_count": null,
   "metadata": {},
   "outputs": [],
   "source": [
    "#!pip install python-slugify"
   ]
  },
  {
   "cell_type": "code",
   "execution_count": 132,
   "metadata": {},
   "outputs": [],
   "source": [
    "from slugify import slugify\n",
    "\n",
    "unicode=str()"
   ]
  },
  {
   "cell_type": "code",
   "execution_count": 133,
   "metadata": {},
   "outputs": [],
   "source": [
    "def index_page(s):\n",
    "    pass"
   ]
  },
  {
   "cell_type": "markdown",
   "metadata": {},
   "source": [
    "## Step 6: Sequentially loop through the list of links, running the index_page function each time.\n",
    "\n",
    "Remember to include `%%time` at the beginning of the cell so that it measures the time it takes for the cell to run."
   ]
  },
  {
   "cell_type": "code",
   "execution_count": null,
   "metadata": {},
   "outputs": [],
   "source": [
    "#your code"
   ]
  },
  {
   "cell_type": "markdown",
   "metadata": {},
   "source": [
    "## Step 7: Perform the page indexing in parallel and note the difference in performance.\n",
    "\n",
    "Remember to include `%%time` at the beginning of the cell so that it measures the time it takes for the cell to run."
   ]
  },
  {
   "cell_type": "code",
   "execution_count": null,
   "metadata": {},
   "outputs": [],
   "source": [
    "import multiprocessing"
   ]
  },
  {
   "cell_type": "code",
   "execution_count": null,
   "metadata": {},
   "outputs": [],
   "source": [
    "#your code"
   ]
  }
 ],
 "metadata": {
  "kernelspec": {
   "display_name": "Python 3 (ipykernel)",
   "language": "python",
   "name": "python3"
  },
  "language_info": {
   "codemirror_mode": {
    "name": "ipython",
    "version": 3
   },
   "file_extension": ".py",
   "mimetype": "text/x-python",
   "name": "python",
   "nbconvert_exporter": "python",
   "pygments_lexer": "ipython3",
   "version": "3.9.7"
  },
  "toc": {
   "base_numbering": 1,
   "nav_menu": {},
   "number_sections": true,
   "sideBar": true,
   "skip_h1_title": false,
   "title_cell": "Table of Contents",
   "title_sidebar": "Contents",
   "toc_cell": true,
   "toc_position": {},
   "toc_section_display": true,
   "toc_window_display": false
  },
  "varInspector": {
   "cols": {
    "lenName": 16,
    "lenType": 16,
    "lenVar": 40
   },
   "kernels_config": {
    "python": {
     "delete_cmd_postfix": "",
     "delete_cmd_prefix": "del ",
     "library": "var_list.py",
     "varRefreshCmd": "print(var_dic_list())"
    },
    "r": {
     "delete_cmd_postfix": ") ",
     "delete_cmd_prefix": "rm(",
     "library": "var_list.r",
     "varRefreshCmd": "cat(var_dic_list()) "
    }
   },
   "types_to_exclude": [
    "module",
    "function",
    "builtin_function_or_method",
    "instance",
    "_Feature"
   ],
   "window_display": false
  }
 },
 "nbformat": 4,
 "nbformat_minor": 2
}
